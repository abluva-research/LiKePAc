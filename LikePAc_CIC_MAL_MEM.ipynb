{
 "cells": [
  {
   "cell_type": "code",
   "execution_count": 1,
   "id": "7926113c",
   "metadata": {},
   "outputs": [],
   "source": [
    "import numpy as np\n",
    "import pandas as pd\n",
    "import os\n",
    "import tensorflow as tf\n",
    "from xgboost import XGBClassifier\n",
    "\n",
    "from sklearn.preprocessing import MinMaxScaler\n",
    "from sklearn.model_selection import train_test_split\n",
    "from sklearn.metrics import accuracy_score, f1_score, classification_report, confusion_matrix\n",
    "from imblearn.under_sampling import RandomUnderSampler\n",
    "from sklearn.utils import shuffle\n",
    "\n",
    "import seaborn as sns\n",
    "import matplotlib.pyplot as plt     "
   ]
  },
  {
   "cell_type": "code",
   "execution_count": 3,
   "id": "aa008039",
   "metadata": {},
   "outputs": [
    {
     "data": {
      "text/html": [
       "<div>\n",
       "<style scoped>\n",
       "    .dataframe tbody tr th:only-of-type {\n",
       "        vertical-align: middle;\n",
       "    }\n",
       "\n",
       "    .dataframe tbody tr th {\n",
       "        vertical-align: top;\n",
       "    }\n",
       "\n",
       "    .dataframe thead th {\n",
       "        text-align: right;\n",
       "    }\n",
       "</style>\n",
       "<table border=\"1\" class=\"dataframe\">\n",
       "  <thead>\n",
       "    <tr style=\"text-align: right;\">\n",
       "      <th></th>\n",
       "      <th>Category</th>\n",
       "      <th>pslist.nproc</th>\n",
       "      <th>pslist.nppid</th>\n",
       "      <th>pslist.avg_threads</th>\n",
       "      <th>pslist.nprocs64bit</th>\n",
       "      <th>pslist.avg_handlers</th>\n",
       "      <th>dlllist.ndlls</th>\n",
       "      <th>dlllist.avg_dlls_per_proc</th>\n",
       "      <th>handles.nhandles</th>\n",
       "      <th>handles.avg_handles_per_proc</th>\n",
       "      <th>...</th>\n",
       "      <th>svcscan.kernel_drivers</th>\n",
       "      <th>svcscan.fs_drivers</th>\n",
       "      <th>svcscan.process_services</th>\n",
       "      <th>svcscan.shared_process_services</th>\n",
       "      <th>svcscan.interactive_process_services</th>\n",
       "      <th>svcscan.nactive</th>\n",
       "      <th>callbacks.ncallbacks</th>\n",
       "      <th>callbacks.nanonymous</th>\n",
       "      <th>callbacks.ngeneric</th>\n",
       "      <th>Class</th>\n",
       "    </tr>\n",
       "  </thead>\n",
       "  <tbody>\n",
       "    <tr>\n",
       "      <th>0</th>\n",
       "      <td>Benign</td>\n",
       "      <td>45</td>\n",
       "      <td>17</td>\n",
       "      <td>10.555556</td>\n",
       "      <td>0</td>\n",
       "      <td>202.844444</td>\n",
       "      <td>1694</td>\n",
       "      <td>38.500000</td>\n",
       "      <td>9129</td>\n",
       "      <td>212.302326</td>\n",
       "      <td>...</td>\n",
       "      <td>221</td>\n",
       "      <td>26</td>\n",
       "      <td>24</td>\n",
       "      <td>116</td>\n",
       "      <td>0</td>\n",
       "      <td>121</td>\n",
       "      <td>87</td>\n",
       "      <td>0</td>\n",
       "      <td>8</td>\n",
       "      <td>Benign</td>\n",
       "    </tr>\n",
       "    <tr>\n",
       "      <th>1</th>\n",
       "      <td>Benign</td>\n",
       "      <td>47</td>\n",
       "      <td>19</td>\n",
       "      <td>11.531915</td>\n",
       "      <td>0</td>\n",
       "      <td>242.234043</td>\n",
       "      <td>2074</td>\n",
       "      <td>44.127660</td>\n",
       "      <td>11385</td>\n",
       "      <td>242.234043</td>\n",
       "      <td>...</td>\n",
       "      <td>222</td>\n",
       "      <td>26</td>\n",
       "      <td>24</td>\n",
       "      <td>118</td>\n",
       "      <td>0</td>\n",
       "      <td>122</td>\n",
       "      <td>87</td>\n",
       "      <td>0</td>\n",
       "      <td>8</td>\n",
       "      <td>Benign</td>\n",
       "    </tr>\n",
       "    <tr>\n",
       "      <th>2</th>\n",
       "      <td>Benign</td>\n",
       "      <td>40</td>\n",
       "      <td>14</td>\n",
       "      <td>14.725000</td>\n",
       "      <td>0</td>\n",
       "      <td>288.225000</td>\n",
       "      <td>1932</td>\n",
       "      <td>48.300000</td>\n",
       "      <td>11529</td>\n",
       "      <td>288.225000</td>\n",
       "      <td>...</td>\n",
       "      <td>222</td>\n",
       "      <td>26</td>\n",
       "      <td>27</td>\n",
       "      <td>118</td>\n",
       "      <td>0</td>\n",
       "      <td>120</td>\n",
       "      <td>88</td>\n",
       "      <td>0</td>\n",
       "      <td>8</td>\n",
       "      <td>Benign</td>\n",
       "    </tr>\n",
       "    <tr>\n",
       "      <th>3</th>\n",
       "      <td>Benign</td>\n",
       "      <td>32</td>\n",
       "      <td>13</td>\n",
       "      <td>13.500000</td>\n",
       "      <td>0</td>\n",
       "      <td>264.281250</td>\n",
       "      <td>1445</td>\n",
       "      <td>45.156250</td>\n",
       "      <td>8457</td>\n",
       "      <td>264.281250</td>\n",
       "      <td>...</td>\n",
       "      <td>222</td>\n",
       "      <td>26</td>\n",
       "      <td>27</td>\n",
       "      <td>118</td>\n",
       "      <td>0</td>\n",
       "      <td>120</td>\n",
       "      <td>88</td>\n",
       "      <td>0</td>\n",
       "      <td>8</td>\n",
       "      <td>Benign</td>\n",
       "    </tr>\n",
       "    <tr>\n",
       "      <th>4</th>\n",
       "      <td>Benign</td>\n",
       "      <td>42</td>\n",
       "      <td>16</td>\n",
       "      <td>11.452381</td>\n",
       "      <td>0</td>\n",
       "      <td>281.333333</td>\n",
       "      <td>2067</td>\n",
       "      <td>49.214286</td>\n",
       "      <td>11816</td>\n",
       "      <td>281.333333</td>\n",
       "      <td>...</td>\n",
       "      <td>222</td>\n",
       "      <td>26</td>\n",
       "      <td>24</td>\n",
       "      <td>118</td>\n",
       "      <td>0</td>\n",
       "      <td>124</td>\n",
       "      <td>87</td>\n",
       "      <td>0</td>\n",
       "      <td>8</td>\n",
       "      <td>Benign</td>\n",
       "    </tr>\n",
       "  </tbody>\n",
       "</table>\n",
       "<p>5 rows × 57 columns</p>\n",
       "</div>"
      ],
      "text/plain": [
       "  Category  pslist.nproc  pslist.nppid  pslist.avg_threads  \\\n",
       "0   Benign            45            17           10.555556   \n",
       "1   Benign            47            19           11.531915   \n",
       "2   Benign            40            14           14.725000   \n",
       "3   Benign            32            13           13.500000   \n",
       "4   Benign            42            16           11.452381   \n",
       "\n",
       "   pslist.nprocs64bit  pslist.avg_handlers  dlllist.ndlls  \\\n",
       "0                   0           202.844444           1694   \n",
       "1                   0           242.234043           2074   \n",
       "2                   0           288.225000           1932   \n",
       "3                   0           264.281250           1445   \n",
       "4                   0           281.333333           2067   \n",
       "\n",
       "   dlllist.avg_dlls_per_proc  handles.nhandles  handles.avg_handles_per_proc  \\\n",
       "0                  38.500000              9129                    212.302326   \n",
       "1                  44.127660             11385                    242.234043   \n",
       "2                  48.300000             11529                    288.225000   \n",
       "3                  45.156250              8457                    264.281250   \n",
       "4                  49.214286             11816                    281.333333   \n",
       "\n",
       "   ...  svcscan.kernel_drivers  svcscan.fs_drivers  svcscan.process_services  \\\n",
       "0  ...                     221                  26                        24   \n",
       "1  ...                     222                  26                        24   \n",
       "2  ...                     222                  26                        27   \n",
       "3  ...                     222                  26                        27   \n",
       "4  ...                     222                  26                        24   \n",
       "\n",
       "   svcscan.shared_process_services  svcscan.interactive_process_services  \\\n",
       "0                              116                                     0   \n",
       "1                              118                                     0   \n",
       "2                              118                                     0   \n",
       "3                              118                                     0   \n",
       "4                              118                                     0   \n",
       "\n",
       "   svcscan.nactive  callbacks.ncallbacks  callbacks.nanonymous  \\\n",
       "0              121                    87                     0   \n",
       "1              122                    87                     0   \n",
       "2              120                    88                     0   \n",
       "3              120                    88                     0   \n",
       "4              124                    87                     0   \n",
       "\n",
       "   callbacks.ngeneric   Class  \n",
       "0                   8  Benign  \n",
       "1                   8  Benign  \n",
       "2                   8  Benign  \n",
       "3                   8  Benign  \n",
       "4                   8  Benign  \n",
       "\n",
       "[5 rows x 57 columns]"
      ]
     },
     "execution_count": 3,
     "metadata": {},
     "output_type": "execute_result"
    }
   ],
   "source": [
    "df = pd.read_csv(\"../../MalMem leaderboard/Obfuscated-MalMem2022.csv\")\n",
    "df.head()"
   ]
  },
  {
   "cell_type": "code",
   "execution_count": 4,
   "id": "6d81cb05",
   "metadata": {},
   "outputs": [
    {
     "data": {
      "text/plain": [
       "{'Benign': 0,\n",
       " 'Spyware_Transponder': 1,\n",
       " 'Spyware_Gator': 2,\n",
       " 'Ransomware_Shade': 3,\n",
       " 'Ransomware_Ako': 4,\n",
       " 'Spyware_180solutions': 5,\n",
       " 'Spyware_CWS': 6,\n",
       " 'Trojan_Refroso': 7,\n",
       " 'Trojan_Scar': 8,\n",
       " 'Ransomware_Conti': 9,\n",
       " 'Trojan_Emotet': 10,\n",
       " 'Ransomware_Maze': 11,\n",
       " 'Trojan_Zeus': 12,\n",
       " 'Ransomware_Pysa': 13,\n",
       " 'Trojan_Reconyc': 14,\n",
       " 'Spyware_TIBS': 15}"
      ]
     },
     "execution_count": 4,
     "metadata": {},
     "output_type": "execute_result"
    }
   ],
   "source": [
    "df['Category'] = [\"_\".join(i.split('-')[:2]) for i in df.Category.values]\n",
    "del df['Class']\n",
    "l = 0\n",
    "label_mapper = {}\n",
    "for i,j in df.Category.value_counts().items():\n",
    "    label_mapper[i] = l\n",
    "    l+=1\n",
    "label_mapper"
   ]
  },
  {
   "cell_type": "code",
   "execution_count": 5,
   "id": "7faf7bab",
   "metadata": {},
   "outputs": [],
   "source": [
    "df.Category.replace(label_mapper,inplace=True)\n",
    "df[\"Category\"] = pd.to_numeric(df[\"Category\"])"
   ]
  },
  {
   "cell_type": "code",
   "execution_count": 6,
   "id": "2e73f466",
   "metadata": {},
   "outputs": [
    {
     "data": {
      "text/plain": [
       "{'Benign': 0,\n",
       " 'Spyware_Transponder': 1,\n",
       " 'Spyware_Gator': 2,\n",
       " 'Ransomware_Shade': 3,\n",
       " 'Ransomware_Ako': 4,\n",
       " 'Spyware_180solutions': 5,\n",
       " 'Spyware_CWS': 6,\n",
       " 'Trojan_Refroso': 7,\n",
       " 'Trojan_Scar': 8,\n",
       " 'Ransomware_Conti': 9,\n",
       " 'Trojan_Emotet': 10,\n",
       " 'Ransomware_Maze': 11,\n",
       " 'Trojan_Zeus': 12,\n",
       " 'Ransomware_Pysa': 13,\n",
       " 'Trojan_Reconyc': 14,\n",
       " 'Spyware_TIBS': 15}"
      ]
     },
     "execution_count": 6,
     "metadata": {},
     "output_type": "execute_result"
    }
   ],
   "source": [
    "label_mapper"
   ]
  },
  {
   "cell_type": "code",
   "execution_count": 7,
   "id": "071101a6",
   "metadata": {},
   "outputs": [
    {
     "data": {
      "text/plain": [
       "0     29298\n",
       "1      2410\n",
       "2      2200\n",
       "3      2128\n",
       "4      2000\n",
       "5      2000\n",
       "6      2000\n",
       "7      2000\n",
       "8      2000\n",
       "9      1988\n",
       "10     1967\n",
       "11     1958\n",
       "12     1950\n",
       "13     1717\n",
       "14     1570\n",
       "15     1410\n",
       "Name: Category, dtype: int64"
      ]
     },
     "execution_count": 7,
     "metadata": {},
     "output_type": "execute_result"
    }
   ],
   "source": [
    "df.Category.value_counts()"
   ]
  },
  {
   "cell_type": "code",
   "execution_count": 8,
   "id": "d80347da",
   "metadata": {},
   "outputs": [],
   "source": [
    "LEARNING_RATE = 0.001\n",
    "EPOCHS = 10\n",
    "BATCH_SIZE = 64\n",
    "BUFFER_SIZE = int(BATCH_SIZE * 10)\n",
    "NON_ZERO_DAY_CLASSES = [0,1,3,5,7,9]"
   ]
  },
  {
   "cell_type": "code",
   "execution_count": 9,
   "id": "3a124f1e",
   "metadata": {
    "scrolled": true
   },
   "outputs": [
    {
     "name": "stderr",
     "output_type": "stream",
     "text": [
      "C:\\Users\\axylo\\AppData\\Local\\Temp\\ipykernel_17284\\983842108.py:8: SettingWithCopyWarning: \n",
      "A value is trying to be set on a copy of a slice from a DataFrame\n",
      "\n",
      "See the caveats in the documentation: https://pandas.pydata.org/pandas-docs/stable/user_guide/indexing.html#returning-a-view-versus-a-copy\n",
      "  y[y!=0] = 1\n"
     ]
    }
   ],
   "source": [
    "df.replace([np.inf, -np.inf], np.nan, inplace=True)\n",
    "df.fillna(df.mean(),inplace=True)\n",
    "\n",
    "df_ = df[df.Category.isin(NON_ZERO_DAY_CLASSES)]\n",
    "\n",
    "X = df_.iloc[:,1:]\n",
    "y = df_.iloc[:,0]\n",
    "y[y!=0] = 1\n",
    "X_train, X_valid, y_train, y_valid = train_test_split(X, y, test_size=0.20, random_state=128)\n",
    "\n",
    "zero = df[~df.Category.isin(NON_ZERO_DAY_CLASSES)]\n",
    "X_zero = zero.iloc[:,1:]\n",
    "y_zero = np.ones(X_zero.shape[0])"
   ]
  },
  {
   "cell_type": "code",
   "execution_count": 10,
   "id": "cf41f0cb",
   "metadata": {},
   "outputs": [],
   "source": [
    "ls = len(y_train[y_train == 1])\n",
    "sz = int(ls + ls * 0.1)"
   ]
  },
  {
   "cell_type": "code",
   "execution_count": 11,
   "id": "1fd4b4a1",
   "metadata": {},
   "outputs": [
    {
     "name": "stdout",
     "output_type": "stream",
     "text": [
      "(array([0, 1], dtype=int64), array([23412,  8447], dtype=int64))\n",
      "(array([0., 1.]), array([9291, 8447], dtype=int64))\n"
     ]
    }
   ],
   "source": [
    "print(np.unique(y_train,return_counts=True))\n",
    "X_train_d = pd.concat([X_train[y_train==0].sample(n=sz),X_train[y_train==1]])\n",
    "y_train_d = np.concatenate([np.zeros(sz),np.ones(ls)])\n",
    "print(np.unique(y_train_d,return_counts=True))"
   ]
  },
  {
   "cell_type": "code",
   "execution_count": 12,
   "id": "ca5a7227",
   "metadata": {},
   "outputs": [],
   "source": [
    "sc = MinMaxScaler()\n",
    "X_train_sc = sc.fit_transform(X_train_d)\n",
    "X_valid_sc = sc.transform(X_valid)\n",
    "X_zero_sc = sc.transform(X_zero)"
   ]
  },
  {
   "cell_type": "code",
   "execution_count": 13,
   "id": "a3b05a72",
   "metadata": {},
   "outputs": [],
   "source": [
    "tem = X_valid_sc[y_valid==0]\n",
    "X_test_sc = np.concatenate((tem, X_zero_sc), axis=0)\n",
    "y_test = np.concatenate((np.zeros(tem.shape[0]),np.ones(X_zero_sc.shape[0])))"
   ]
  },
  {
   "cell_type": "code",
   "execution_count": 14,
   "id": "cc8b7b56",
   "metadata": {},
   "outputs": [],
   "source": [
    "X_train_sc, y_train_d = shuffle(X_train_sc, y_train_d)\n",
    "X_valid_sc, y_valid = shuffle(X_valid_sc, y_valid.values)\n",
    "X_test_sc, y_test = shuffle(X_test_sc, y_test)"
   ]
  },
  {
   "cell_type": "code",
   "execution_count": 15,
   "id": "3bfc78f5",
   "metadata": {},
   "outputs": [],
   "source": [
    "train_dataset = tf.data.Dataset.from_tensor_slices((X_train_sc,y_train_d))\n",
    "train_dataset = train_dataset.shuffle(buffer_size=BUFFER_SIZE)\n",
    "train_dataset = train_dataset.batch(BATCH_SIZE).prefetch(tf.data.experimental.AUTOTUNE)\n",
    "\n",
    "valid_dataset = tf.data.Dataset.from_tensor_slices((X_valid_sc, y_valid))\n",
    "valid_dataset = valid_dataset.batch(BATCH_SIZE).prefetch(tf.data.experimental.AUTOTUNE)\n",
    "\n",
    "test_dataset = tf.data.Dataset.from_tensor_slices((X_test_sc, y_test))\n",
    "test_dataset = test_dataset.batch(BATCH_SIZE).prefetch(tf.data.experimental.AUTOTUNE)"
   ]
  },
  {
   "cell_type": "code",
   "execution_count": 16,
   "id": "af933f71",
   "metadata": {},
   "outputs": [],
   "source": [
    "class AccentuatedLayer(tf.keras.layers.Layer):\n",
    "    def __init__(self, emb_dim, kernels, name=None):\n",
    "        super(AccentuatedLayer, self).__init__(name=name)\n",
    "        self.emb_dim = emb_dim\n",
    "        self.projected_emb = tf.keras.layers.Dense(emb_dim, activation='tanh', trainable=True)\n",
    "        self.pattern_kernels = tf.Variable(tf.random_normal_initializer()(shape=[kernels,emb_dim], dtype=tf.float32)\n",
    "                                           ,trainable=True)\n",
    "    \n",
    "    def compute_cosine_sim(self, a, b):\n",
    "        normalize_a = tf.nn.l2_normalize(a,1)        \n",
    "        normalize_b = tf.nn.l2_normalize(b,1)\n",
    "        sim = tf.matmul(normalize_a, normalize_b, transpose_b=True)\n",
    "        return sim\n",
    "    \n",
    "    def call(self, inputs, hidden_smx=None):\n",
    "        embs = self.projected_emb(inputs)\n",
    "        similarity = self.compute_cosine_sim(embs,self.pattern_kernels)\n",
    "        smx = tf.math.softmax(similarity)\n",
    "        if hidden_smx is None:\n",
    "            cell_outs = tf.einsum('ij,ik->ikj', embs, smx)\n",
    "            return cell_outs, smx\n",
    "        else:\n",
    "            sidx = tf.argsort(hidden_smx)\n",
    "            weighted_scores = tf.gather(tf.cumsum(tf.sort(hidden_smx,axis=1),axis=1),sidx,axis=1, batch_dims = 1)\n",
    "            sofsm = tf.einsum(\"ij,ijk->ijk\",weighted_scores,smx)\n",
    "            cell_outs = tf.reduce_sum(tf.einsum(\"ijk,ijl->ijlk\",embs,sofsm),axis=1)\n",
    "            return cell_outs, tf.reduce_sum(smx,axis=1)"
   ]
  },
  {
   "cell_type": "code",
   "execution_count": 17,
   "id": "5f4b1957",
   "metadata": {},
   "outputs": [
    {
     "name": "stdout",
     "output_type": "stream",
     "text": [
      "Model: \"model\"\n",
      "__________________________________________________________________________________________________\n",
      "Layer (type)                    Output Shape         Param #     Connected to                     \n",
      "==================================================================================================\n",
      "input_1 (InputLayer)            [(None, 55)]         0                                            \n",
      "__________________________________________________________________________________________________\n",
      "AccentLayer1 (AccentuatedLayer) ((None, 16, 32), (No 2304        input_1[0][0]                    \n",
      "__________________________________________________________________________________________________\n",
      "AccentLayer2 (AccentuatedLayer) ((None, 8, 16), (Non 656         AccentLayer1[0][0]               \n",
      "                                                                 AccentLayer1[0][1]               \n",
      "__________________________________________________________________________________________________\n",
      "dropout (Dropout)               (None, 8, 16)        0           AccentLayer2[0][0]               \n",
      "__________________________________________________________________________________________________\n",
      "flatten (Flatten)               (None, 128)          0           dropout[0][0]                    \n",
      "__________________________________________________________________________________________________\n",
      "dense_2 (Dense)                 (None, 1)            129         flatten[0][0]                    \n",
      "==================================================================================================\n",
      "Total params: 3,089\n",
      "Trainable params: 3,089\n",
      "Non-trainable params: 0\n",
      "__________________________________________________________________________________________________\n"
     ]
    }
   ],
   "source": [
    "inp_layer = tf.keras.layers.Input(shape=(X_test_sc.shape[1],))\n",
    "\n",
    "ac_vec, hid= AccentuatedLayer(32,kernels=16,name=f\"AccentLayer1\")(inp_layer)\n",
    "ac_vec, hid = AccentuatedLayer(16,kernels=8,name=f\"AccentLayer2\")(ac_vec, hid)\n",
    "dp = tf.keras.layers.Dropout(0.2)(ac_vec)\n",
    "\n",
    "flt = tf.keras.layers.Flatten()(dp)\n",
    "outl = tf.keras.layers.Dense(1,activation='sigmoid')(flt)\n",
    "\n",
    "model = tf.keras.Model(inputs=inp_layer,outputs=outl)\n",
    "model.summary()"
   ]
  },
  {
   "cell_type": "code",
   "execution_count": 18,
   "id": "591c427e",
   "metadata": {},
   "outputs": [],
   "source": [
    "# lr_schedule = tf.keras.optimizers.schedules.ExponentialDecay(\n",
    "#     LEARNING_RATE,\n",
    "#     decay_steps=30000,\n",
    "#     decay_rate=0.96,\n",
    "#     staircase=True)"
   ]
  },
  {
   "cell_type": "code",
   "execution_count": 20,
   "id": "67853864",
   "metadata": {},
   "outputs": [],
   "source": [
    "model.compile(loss='binary_crossentropy',optimizer=tf.keras.optimizers.Adam(learning_rate=LEARNING_RATE),metrics=['acc'])"
   ]
  },
  {
   "cell_type": "code",
   "execution_count": 21,
   "id": "83a425fc",
   "metadata": {},
   "outputs": [
    {
     "name": "stdout",
     "output_type": "stream",
     "text": [
      "Epoch 1/10\n",
      "278/278 [==============================] - 6s 13ms/step - loss: 0.2479 - acc: 0.9485 - val_loss: 0.0249 - val_acc: 0.9959\n",
      "Epoch 2/10\n",
      "278/278 [==============================] - 4s 13ms/step - loss: 0.0279 - acc: 0.9945 - val_loss: 0.0129 - val_acc: 0.9951\n",
      "Epoch 3/10\n",
      "278/278 [==============================] - 4s 14ms/step - loss: 0.0166 - acc: 0.9951 - val_loss: 0.0194 - val_acc: 0.9921\n",
      "Epoch 4/10\n",
      "278/278 [==============================] - 4s 13ms/step - loss: 0.0147 - acc: 0.9959 - val_loss: 0.0106 - val_acc: 0.9956\n",
      "Epoch 5/10\n",
      "278/278 [==============================] - 4s 13ms/step - loss: 0.0146 - acc: 0.9955 - val_loss: 0.0114 - val_acc: 0.9965\n",
      "Epoch 6/10\n",
      "278/278 [==============================] - 4s 13ms/step - loss: 0.0124 - acc: 0.9958 - val_loss: 0.0141 - val_acc: 0.9962\n",
      "Epoch 7/10\n",
      "278/278 [==============================] - 4s 13ms/step - loss: 0.0114 - acc: 0.9966 - val_loss: 0.0075 - val_acc: 0.9984\n",
      "Epoch 8/10\n",
      "278/278 [==============================] - 4s 14ms/step - loss: 0.0126 - acc: 0.9959 - val_loss: 0.0072 - val_acc: 0.9984\n",
      "Epoch 9/10\n",
      "278/278 [==============================] - 4s 13ms/step - loss: 0.0112 - acc: 0.9960 - val_loss: 0.0084 - val_acc: 0.9966\n",
      "Epoch 10/10\n",
      "278/278 [==============================] - 4s 13ms/step - loss: 0.0116 - acc: 0.9962 - val_loss: 0.0070 - val_acc: 0.9964\n"
     ]
    }
   ],
   "source": [
    "history = model.fit(train_dataset,epochs=EPOCHS, validation_data=valid_dataset)"
   ]
  },
  {
   "cell_type": "code",
   "execution_count": 22,
   "id": "97e8f3c4",
   "metadata": {},
   "outputs": [],
   "source": [
    "y_valid_pred = np.array(model.predict(valid_dataset)>0.5,dtype=np.int32)"
   ]
  },
  {
   "cell_type": "code",
   "execution_count": 23,
   "id": "3535c9f8",
   "metadata": {},
   "outputs": [
    {
     "name": "stdout",
     "output_type": "stream",
     "text": [
      "              precision    recall  f1-score   support\n",
      "\n",
      "           0       1.00      1.00      1.00      5886\n",
      "           1       0.99      1.00      0.99      2079\n",
      "\n",
      "    accuracy                           1.00      7965\n",
      "   macro avg       0.99      1.00      1.00      7965\n",
      "weighted avg       1.00      1.00      1.00      7965\n",
      "\n"
     ]
    }
   ],
   "source": [
    "print(classification_report(y_valid,y_valid_pred))"
   ]
  },
  {
   "cell_type": "code",
   "execution_count": 24,
   "id": "d9be1ee0",
   "metadata": {},
   "outputs": [
    {
     "data": {
      "image/png": "[encoded data removed]",
      "text/plain": [
       "<Figure size 640x480 with 2 Axes>"
      ]
     },
     "metadata": {},
     "output_type": "display_data"
    }
   ],
   "source": [
    "cm = confusion_matrix(y_valid,y_valid_pred)\n",
    "ax= plt.subplot()\n",
    "sns.heatmap(cm, annot=True, fmt='g', ax=ax)\n",
    "\n",
    "ax.set_xlabel('Predicted labels');\n",
    "ax.set_ylabel('True labels'); \n",
    "ax.set_title('Confusion Matrix'); \n",
    "ax.xaxis.set_ticklabels(['BENIGN', 'NON-BENIGN']); \n",
    "ax.yaxis.set_ticklabels(['BENIGN', 'NON-BENIGN']);"
   ]
  },
  {
   "cell_type": "code",
   "execution_count": 25,
   "id": "4c8fe597",
   "metadata": {},
   "outputs": [
    {
     "data": {
      "image/png": "[encoded data removed]",
      "text/plain": [
       "<Figure size 640x480 with 2 Axes>"
      ]
     },
     "metadata": {},
     "output_type": "display_data"
    }
   ],
   "source": [
    "ax= plt.subplot()\n",
    "sns.heatmap(cm.astype('float') / cm.sum(axis=1)[:, np.newaxis], annot=True, fmt='g', ax=ax)\n",
    "\n",
    "ax.set_xlabel('Predicted labels');\n",
    "ax.set_ylabel('True labels'); \n",
    "ax.set_title('Confusion Matrix'); \n",
    "ax.xaxis.set_ticklabels(['BENIGN', 'NON-BENIGN']); \n",
    "ax.yaxis.set_ticklabels(['BENIGN', 'NON-BENIGN']);"
   ]
  },
  {
   "cell_type": "code",
   "execution_count": 26,
   "id": "e98cce0c",
   "metadata": {},
   "outputs": [],
   "source": [
    "y_test_pred_prob = model.predict(test_dataset)"
   ]
  },
  {
   "cell_type": "code",
   "execution_count": 27,
   "id": "50300dda",
   "metadata": {},
   "outputs": [],
   "source": [
    "y_test_pred = np.array(y_test_pred_prob>0.5,dtype=np.int32)"
   ]
  },
  {
   "cell_type": "code",
   "execution_count": 28,
   "id": "fd174e14",
   "metadata": {},
   "outputs": [
    {
     "name": "stdout",
     "output_type": "stream",
     "text": [
      "              precision    recall  f1-score   support\n",
      "\n",
      "         0.0       0.99      1.00      0.99      5886\n",
      "         1.0       1.00      1.00      1.00     18772\n",
      "\n",
      "    accuracy                           1.00     24658\n",
      "   macro avg       0.99      1.00      1.00     24658\n",
      "weighted avg       1.00      1.00      1.00     24658\n",
      "\n"
     ]
    }
   ],
   "source": [
    "print(classification_report(y_test,y_test_pred))"
   ]
  },
  {
   "cell_type": "code",
   "execution_count": 29,
   "id": "ec7c8fe6",
   "metadata": {},
   "outputs": [
    {
     "data": {
      "image/png": "[encoded data removed]",
      "text/plain": [
       "<Figure size 640x480 with 2 Axes>"
      ]
     },
     "metadata": {},
     "output_type": "display_data"
    }
   ],
   "source": [
    "cm = confusion_matrix(y_test,y_test_pred)\n",
    "ax= plt.subplot()\n",
    "sns.heatmap(cm, annot=True, fmt='g', ax=ax)\n",
    "\n",
    "ax.set_xlabel('Predicted labels');\n",
    "ax.set_ylabel('True labels'); \n",
    "ax.set_title('Confusion Matrix'); \n",
    "ax.xaxis.set_ticklabels(['BENIGN', 'NON-BENIGN']); \n",
    "ax.yaxis.set_ticklabels(['BENIGN', 'NON-BENIGN']);"
   ]
  },
  {
   "cell_type": "code",
   "execution_count": 30,
   "id": "99ff7702",
   "metadata": {},
   "outputs": [
    {
     "data": {
      "image/png": "[encoded data removed]",
      "text/plain": [
       "<Figure size 640x480 with 2 Axes>"
      ]
     },
     "metadata": {},
     "output_type": "display_data"
    }
   ],
   "source": [
    "ax= plt.subplot()\n",
    "sns.heatmap(cm.astype('float') / cm.sum(axis=1)[:, np.newaxis], annot=True, fmt='g', ax=ax)\n",
    "\n",
    "ax.set_xlabel('Predicted labels');\n",
    "ax.set_ylabel('True labels'); \n",
    "ax.set_title('Confusion Matrix'); \n",
    "ax.xaxis.set_ticklabels(['BENIGN', 'NON-BENIGN']); \n",
    "ax.yaxis.set_ticklabels(['BENIGN', 'NON-BENIGN']);"
   ]
  },
  {
   "cell_type": "code",
   "execution_count": 31,
   "id": "357a849f",
   "metadata": {},
   "outputs": [
    {
     "data": {
      "text/plain": [
       "(0.996593397680266, 0.9977601194602955)"
      ]
     },
     "execution_count": 31,
     "metadata": {},
     "output_type": "execute_result"
    }
   ],
   "source": [
    "accuracy_score(y_test,y_test_pred),f1_score(y_test,y_test_pred)"
   ]
  },
  {
   "cell_type": "code",
   "execution_count": null,
   "id": "c23a842c",
   "metadata": {},
   "outputs": [],
   "source": []
  }
 ],
 "metadata": {
  "kernelspec": {
   "display_name": "Python 3 (ipykernel)",
   "language": "python",
   "name": "python3"
  },
  "language_info": {
   "codemirror_mode": {
    "name": "ipython",
    "version": 3
   },
   "file_extension": ".py",
   "mimetype": "text/x-python",
   "name": "python",
   "nbconvert_exporter": "python",
   "pygments_lexer": "ipython3",
   "version": "3.9.16"
  }
 },
 "nbformat": 4,
 "nbformat_minor": 5
}
